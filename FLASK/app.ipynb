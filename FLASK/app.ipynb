{
 "cells": [
  {
   "cell_type": "code",
   "execution_count": null,
   "metadata": {},
   "outputs": [
    {
     "name": "stdout",
     "output_type": "stream",
     "text": [
      " * Serving Flask app \"__main__\" (lazy loading)\n",
      " * Environment: production\n",
      "   WARNING: This is a development server. Do not use it in a production deployment.\n",
      "   Use a production WSGI server instead.\n",
      " * Debug mode: off\n"
     ]
    },
    {
     "name": "stderr",
     "output_type": "stream",
     "text": [
      " * Running on http://127.0.0.1:5000/ (Press CTRL+C to quit)\n",
      "127.0.0.1 - - [12/Apr/2021 12:12:59] \"\u001b[37mGET / HTTP/1.1\u001b[0m\" 200 -\n",
      "127.0.0.1 - - [12/Apr/2021 12:17:11] \"\u001b[37mGET / HTTP/1.1\u001b[0m\" 200 -\n",
      "127.0.0.1 - - [12/Apr/2021 12:45:17] \"\u001b[37mGET / HTTP/1.1\u001b[0m\" 200 -\n",
      "127.0.0.1 - - [12/Apr/2021 12:45:48] \"\u001b[37mGET / HTTP/1.1\u001b[0m\" 200 -\n"
     ]
    }
   ],
   "source": [
    "from flask_sqlalchemy import SQLAlchemy\n",
    "from flask import Flask, render_template\n",
    "from datetime import datetime\n",
    "\n",
    "app = Flask(__name__) \n",
    "\n",
    "# initialize sqlachemy\n",
    "app.config['SQLALCHEMY_DATABASE_URI'] = \"sqlite:////tmp/todo.db\"  \n",
    "\n",
    "\n",
    "app.config['SQLALCHEMY_TRACK_MODIFICATIONS'] = False \n",
    "# A warning will arrive without this. Either make it true or false, but don't leave it.\n",
    "\n",
    "\n",
    "db=SQLAlchemy(app)\n",
    "# copy-paste from sql alchemy page\n",
    "\n",
    "\n",
    "# defining schema of database using class\n",
    "class Todo(db.Model):\n",
    "    sno = db.Column(db.Integer, primary_key=True)\n",
    "    content = db.Column(db.String(200), nullable=False)\n",
    "    title = db.Column(db.String(500), nullable=False)\n",
    "    date_created = db.Column(db.DateTime, default=datetime.utcnow)\n",
    "    \n",
    "    def __repr__(self) -> str:\n",
    "        return f\"{self.sno} - {self.title}\"\n",
    "    \n",
    "\n",
    "@app.route(\"/\")\n",
    "def home():\n",
    "    return render_template('index.html')\n",
    "\n",
    "\n",
    "if __name__==\"__main__\":\n",
    "    app.run()\n",
    "\n",
    "    \n"
   ]
  }
 ],
 "metadata": {
  "kernelspec": {
   "display_name": "Python 3",
   "language": "python",
   "name": "python3"
  },
  "language_info": {
   "codemirror_mode": {
    "name": "ipython",
    "version": 3
   },
   "file_extension": ".py",
   "mimetype": "text/x-python",
   "name": "python",
   "nbconvert_exporter": "python",
   "pygments_lexer": "ipython3",
   "version": "3.6.8"
  }
 },
 "nbformat": 4,
 "nbformat_minor": 2
}
