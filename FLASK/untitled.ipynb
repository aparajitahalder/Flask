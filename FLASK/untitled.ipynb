{
 "cells": [
  {
   "cell_type": "markdown",
   "metadata": {},
   "source": [
    "# FLASK\n",
    "\n",
    "Flask ia a web application framework written in python. It is a third party library used for developing application"
   ]
  },
  {
   "cell_type": "markdown",
   "metadata": {},
   "source": [
    "# INSTALLING FLASK\n",
    "pip install flask"
   ]
  },
  {
   "cell_type": "markdown",
   "metadata": {},
   "source": [
    "# HELLO WORLD IN FLASK"
   ]
  },
  {
   "cell_type": "code",
   "execution_count": null,
   "metadata": {},
   "outputs": [],
   "source": [
    "from flask import Flask\n",
    "\n",
    "# requesting flask to create web application\n",
    "app = Flask(__name__) \n",
    "\n",
    "#flask routing\n",
    "# / - home page\n",
    "# to print hello world we need to define route\n",
    "@app.route(\"/\")\n",
    "def hello():\n",
    "    return \"Welcome<h1>Hello World...</h1>\"\n",
    "\n",
    "if __name__==\"__main__\":\n",
    "    app.run(debug=True, port=8000)\n",
    "# debug turns on the debug-mode so that we can get error\n",
    "# port=8000, for changing the port\n",
    "    \n",
    "    \n",
    "    \n",
    "    \n",
    "#*Note* - It will give a link. We need to press the link to get hello world."
   ]
  },
  {
   "cell_type": "code",
   "execution_count": null,
   "metadata": {},
   "outputs": [],
   "source": [
    "from flask import Flask\n",
    "app = Flask(__name__) \n",
    "\n",
    "#flask routing\n",
    "@app.route(\"/\")\n",
    "def home():\n",
    "    return \"<h1>THIS IS MY HOMEPAGE </h1>\"\n",
    "\n",
    "@app.route(\"/<name>\")\n",
    "def user(name):\n",
    "    return f\"Hello {name}! How are you ?\"\n",
    "\n",
    "\n",
    "if __name__==\"__main__\":\n",
    "    app.run()\n",
    "    \n",
    "    \n",
    "    \n",
    "    \n",
    "#*Note* - It will give a link. We need to press the link to get hello world.\n",
    "## You can also press double 'ii' in the outpu"
   ]
  },
  {
   "cell_type": "code",
   "execution_count": null,
   "metadata": {},
   "outputs": [],
   "source": [
    "from flask import Flask\n",
    "app = Flask(__name__) \n",
    "\n",
    "#flask routing\n",
    "@app.route(\"/\")\n",
    "@app.route(\"/home\")\n",
    "def home():\n",
    "    return \"<h1>THIS IS MY HOMEPAGE </h1>\"\n",
    "\n",
    "@app.route(\"/<name>\")\n",
    "def user(name):\n",
    "    return f\"Hello {name}! How are you ?\"\n",
    "\n",
    "\n",
    "if __name__==\"__main__\":\n",
    "    app.run()\n",
    "    \n",
    "    \n",
    "    \n",
    "    \n",
    "#*Note* - It will give a link. We need to press the link to get hello world.\n",
    "## You can also press double 'ii' in the output section"
   ]
  },
  {
   "cell_type": "markdown",
   "metadata": {},
   "source": [
    "# Directories\n",
    "\n",
    "## STATIC AND DYNAMIC\n",
    "\n",
    "The static and dynamic templates should be present with .py/.ipynb file, not anywhere else. \n",
    "Inside static we can have audio/video/image file.\n",
    "Copy a file inside static. Then run the home \"direcory/static/file_name\". We can acces the files from there.\n",
    "\n",
    "\n",
    "## HTML with FLASK\n",
    "render-template for html, used with return.\n",
    "It will render the index.html page from templates folder.\n",
    "\n"
   ]
  },
  {
   "cell_type": "code",
   "execution_count": null,
   "metadata": {},
   "outputs": [],
   "source": [
    "from flask import Flask, render_template\n",
    "app = Flask(__name__) \n",
    "\n",
    "@app.route(\"/\")\n",
    "def home():\n",
    "    return render_template('index.html')\n",
    "\n",
    "\n",
    "if __name__==\"__main__\":\n",
    "    app.run()\n",
    "    \n",
    "\n",
    "    "
   ]
  },
  {
   "cell_type": "markdown",
   "metadata": {},
   "source": [
    "# Making webpage using Bootstrap\n",
    "\n",
    "Bootstrap is the most popular CSS Framework for developing responsive and mobile-first websites. Someone has already written code for you, kind of pre-build webpages.\n",
    "\n",
    "\n",
    "Bootstrap--> componenets--> Navbar (copy paste in body tag html)\n",
    "### Forms create similar way\n",
    "Paste below navbar, in a div-container tag"
   ]
  },
  {
   "cell_type": "code",
   "execution_count": null,
   "metadata": {},
   "outputs": [],
   "source": [
    "from flask import Flask, render_template\n",
    "app = Flask(__name__) \n",
    "\n",
    "@app.route(\"/\")\n",
    "def home():\n",
    "    return render_template('index.html')\n",
    "\n",
    "\n",
    "if __name__==\"__main__\":\n",
    "    app.run()\n",
    "    \n",
    "\n",
    "    "
   ]
  },
  {
   "cell_type": "markdown",
   "metadata": {},
   "source": [
    "\n",
    "# DATABASE\n",
    "\n",
    "pip install flask-sqlalchemy (in anconda prompt)\n",
    "<br>sqlalchemy is an orm mapper, using which we can make changes in database using python.\n"
   ]
  },
  {
   "cell_type": "code",
   "execution_count": null,
   "metadata": {},
   "outputs": [],
   "source": [
    "from flask_sqlalchemy import SQLAlchemy     # 1. Import sqlAlchemy\n",
    "from flask import Flask, render_template\n",
    "from datetime import datetime\n",
    "\n",
    "app = Flask(__name__) \n",
    "\n",
    "\n",
    "# 2. initialize sqlachemy\n",
    "# Copy paste the sqlite database command from documentaion.\n",
    "\n",
    "app.config['SQLALCHEMY_DATABASE_URI'] = \"sqlite:////courses.db\"  \n",
    "\n",
    "\n",
    "app.config['SQLALCHEMY_TRACK_MODIFICATIONS'] = True\n",
    "# A warning will arrive without this. Either make it true or false, but don't leave it.\n",
    "\n",
    "\n",
    "db=SQLAlchemy(app)\n",
    "# 3. Calling the sqlAlchemy nd checking if it works.\n",
    "\n",
    "\n",
    "# defining schema of database using class\n",
    "class Todo(db.Model):\n",
    "    sno = db.Column(db.Integer, primary_key=True)\n",
    "    content = db.Column(db.String(200), nullable=False)\n",
    "    title = db.Column(db.String(500), nullable=False)\n",
    "    date_created = db.Column(db.DateTime, default=datetime.utcnow)\n",
    "    \n",
    "    def __repr__(self) -> str:\n",
    "        return f\"{self.sno} - {self.title}\"       #Things that we want to view\n",
    "    \n",
    "\n",
    "@app.route(\"/\")\n",
    "def home():\n",
    "    return render_template('index.html')\n",
    "\n",
    "\n",
    "if __name__==\"__main__\":\n",
    "    app.run()\n",
    "\n",
    "    "
   ]
  },
  {
   "cell_type": "markdown",
   "metadata": {},
   "source": [
    "# CREATING DATABASE\n",
    "\n",
    "Go to the folder where these folder is\n",
    "<br>Write 'python' in anaconda prompt\n",
    "\n",
    "\n"
   ]
  },
  {
   "cell_type": "code",
   "execution_count": null,
   "metadata": {},
   "outputs": [],
   "source": [
    "from goedu import db\n",
    "db.create_all()  # The database 'courses.db' is created"
   ]
  },
  {
   "cell_type": "markdown",
   "metadata": {},
   "source": [
    "Open sqlite viewer from google.\n",
    "<br>Drag and drp the db.\n",
    "\n",
    "<br>Open sqlite documentation and you can create and view database\n",
    "\n",
    "<br>Inside my main page, I want to view my database, hence, I add three lines.\n",
    "\n",
    "\n",
    "<br>courses=courses(content = 'New Flask', title = 'Tera Time ayega')\n",
    "<br>db.session.add(courses)\n",
    "<br>db.session.commit()"
   ]
  },
  {
   "cell_type": "code",
   "execution_count": null,
   "metadata": {},
   "outputs": [],
   "source": [
    "@app.route(\"/\")\n",
    "def home():\n",
    "    courses=courses(content = 'New Flask', title = 'Tera Time ayega')\n",
    "    db.session.add(courses)\n",
    "    db.session.commit()\n",
    "    return render_template('index.html')\n",
    "\n"
   ]
  },
  {
   "cell_type": "markdown",
   "metadata": {},
   "source": [
    "# QUERYING RECORDS\n"
   ]
  },
  {
   "cell_type": "code",
   "execution_count": 2,
   "metadata": {},
   "outputs": [],
   "source": [
    "\n",
    "#In visual studio, install some jinja-2 snippet code\n",
    "\n",
    "from jinja2 import Template\n",
    "\n",
    "#Instead of priniting all todos, now we will pass all-todos in html\n",
    "\n",
    "@app.route(\"/\")\n",
    "def home():\n",
    "    c=courses(content = 'New Flask', title = 'Tera Time ayega')\n",
    "    db.session.add(c)\n",
    "    db.session.commit()\n",
    "    show=courses.query.all()\n",
    "    return render_template('index.html', show=show)    # Passing all to-dos here  (alltodo=query.all())\n",
    "  \n",
    "#show=courses.query.all()\n",
    "#print(show) #Prints all data\n",
    "\n",
    "\n",
    "# IN INDEX>HTML\n",
    "{% for i in show%}\n",
    "\t  <tr>\n",
    "\t\t<td>{{i.sno}}</td>\n",
    "\t\t  <td>{{i.content}}</td>\n",
    "\t\t  <td>{{i.title}}</td>\n",
    "\t\t  <td>{{i.date_created}}</td>\n",
    "\t  </tr>\n",
    "\t\n",
    "\t{% endfor %}\n"
   ]
  },
  {
   "cell_type": "markdown",
   "metadata": {},
   "source": [
    "# GETTING FORMS WORKING\n",
    "\n",
    "\n",
    "1. Remeber to change 'name' in html\n",
    "2. \n",
    "\n"
   ]
  },
  {
   "cell_type": "code",
   "execution_count": null,
   "metadata": {},
   "outputs": [],
   "source": [
    "from flask import request\n",
    "\n",
    "\n",
    "\n",
    "<form action='/' method='post'>   \n",
    "\t <label for=\"fname\">Name:</label><br>\n",
    "     <input type=\"text\" id=\"fname\" name=\"fname\"><br>\n",
    "     <label for=\"lname\">Password:</label><br>\n",
    "     <input type=\"text\" id=\"lname\" name=\"lname\">\n",
    "\t <input type=\"submit\" value=\"Submit\">\n",
    "\t</form>\t\n",
    "\t"
   ]
  },
  {
   "cell_type": "code",
   "execution_count": null,
   "metadata": {},
   "outputs": [],
   "source": [
    "## Changes to be made on app.py\n",
    "\n",
    "@app.route(\"/\", methods=['GET','POST'])    ## CHange-1\n",
    "def home():\n",
    "    if request.method=='POST':             ## Change-2\n",
    "        print(request.form['title'])\n",
    "    c=courses(content = content, title = title)      ## Change-3\n",
    "    db.session.add(c)\n",
    "    db.session.commit()\n",
    "    show=courses.query.all()\n",
    "    return render_template('index.html', show=show)\n",
    "\n",
    "\n"
   ]
  },
  {
   "cell_type": "code",
   "execution_count": null,
   "metadata": {},
   "outputs": [],
   "source": [
    "# db is database, courses (class name - courses.db)"
   ]
  },
  {
   "cell_type": "code",
   "execution_count": null,
   "metadata": {},
   "outputs": [],
   "source": [
    "## ACTION COLUMN\n",
    "\n",
    "\n",
    "\t\t  <td><button><a href=\"/delete/{{i.sno}}\" type=\"button\"  class=\"btn btn-dark\">DELETE</a></button></td>\n",
    "\t\t  ## DELETE \n",
    "        \n",
    "        \n",
    "    \n",
    "from  flask import redirect\n",
    "\n",
    "@app.route(\"/delete/<int : sno>\")\n",
    "def delete(sno):\n",
    "    d=courses.query.filter_by(sno=sno).first()\n",
    "    db.session.delete(d)\n",
    "    db.session.commit()\n",
    "    return redirect('/')\n",
    "\n"
   ]
  },
  {
   "cell_type": "code",
   "execution_count": null,
   "metadata": {},
   "outputs": [],
   "source": [
    "Create update.html\n",
    "\n",
    "\n",
    "@app.route(\"/update/<int:sno>\",methods=['GET','POST'])\n",
    "def update(sno):\n",
    "    if request.method=='POST':\n",
    "        title=request.form['title']\n",
    "        content=request.form['content'] \n",
    "        up=courses.query.filter_by(sno=sno).first()\n",
    "        up.title=title\n",
    "        up.content=content\n",
    "        db.session.add(up)\n",
    "        db.session.commit()\n",
    "        return redirect(\"/\")\n",
    "\n",
    "    up=courses.query.filter_by(sno=sno).first()\n",
    "        \n",
    "    #rint(show_all)\n",
    "    return render_template('update.html',up=up)\n",
    "\n",
    "\n",
    "\n",
    "update.html\n",
    "\n",
    "<input type=\"text\" id=\"fname\" name=\"title\" value=\"{{up.title}}\"><br>\n",
    "     <label for=\"content\">CONTENT:</label><br>\n",
    "     <input type=\"text\" id=\"lname\" name=\"content\" value=\"{{up.content}}\">\n",
    "\t \n",
    "        \n",
    "        \n",
    "index.html\n",
    "\n",
    "\n",
    "\n",
    "\n",
    "\n"
   ]
  },
  {
   "cell_type": "markdown",
   "metadata": {},
   "source": [
    "# Template Inheritance\n",
    "\n",
    "\n",
    "<br>Create a base.html  (Put common features here)\n",
    "<br>Create jinja block"
   ]
  },
  {
   "cell_type": "code",
   "execution_count": null,
   "metadata": {},
   "outputs": [],
   "source": [
    "Base.html\n",
    "{% block body %}\n",
    "\n",
    "{% endfor %}\n",
    "\n",
    "\n",
    "\n",
    "In index.html\n",
    "\n",
    "{% extends 'base.html' %}\n",
    "\n",
    "{% block body %}\n",
    "{% endfor %}\n",
    "\n"
   ]
  },
  {
   "cell_type": "markdown",
   "metadata": {},
   "source": [
    "# DEOPLY HEROKU\n",
    "\n",
    "\n",
    "\n",
    "#### Install heroku cli\n",
    "#### pip install gunicorn\n",
    "#### pip freeze > requirements.txt\n",
    "#### Make a Procfile \n",
    "#### web:gunicon app:app\n",
    "\n",
    "#### Go to project folder and in command prompt type heroku\n",
    "####\n",
    "\n",
    "\n",
    "##### Goto hereko bin folder copy it\n",
    "##### Add heroku to your path variable\n",
    "##### Type heroku inside it\n",
    "##### heroku login\n",
    "##### \n",
    "\n",
    "\n",
    "\n",
    "\n"
   ]
  },
  {
   "cell_type": "code",
   "execution_count": null,
   "metadata": {},
   "outputs": [],
   "source": [
    "git init\n",
    "git add .\n",
    "git commit -m \"Inital commit\"\n",
    "heroku create project-name\n",
    "git push heroku master\n"
   ]
  },
  {
   "cell_type": "code",
   "execution_count": null,
   "metadata": {},
   "outputs": [],
   "source": []
  },
  {
   "cell_type": "code",
   "execution_count": null,
   "metadata": {},
   "outputs": [],
   "source": []
  },
  {
   "cell_type": "code",
   "execution_count": null,
   "metadata": {},
   "outputs": [],
   "source": []
  },
  {
   "cell_type": "code",
   "execution_count": null,
   "metadata": {},
   "outputs": [],
   "source": []
  },
  {
   "cell_type": "code",
   "execution_count": null,
   "metadata": {},
   "outputs": [],
   "source": []
  },
  {
   "cell_type": "code",
   "execution_count": null,
   "metadata": {},
   "outputs": [],
   "source": []
  }
 ],
 "metadata": {
  "kernelspec": {
   "display_name": "Python 3",
   "language": "python",
   "name": "python3"
  },
  "language_info": {
   "codemirror_mode": {
    "name": "ipython",
    "version": 3
   },
   "file_extension": ".py",
   "mimetype": "text/x-python",
   "name": "python",
   "nbconvert_exporter": "python",
   "pygments_lexer": "ipython3",
   "version": "3.6.8"
  }
 },
 "nbformat": 4,
 "nbformat_minor": 2
}
